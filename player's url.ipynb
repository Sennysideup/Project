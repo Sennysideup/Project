{
 "cells": [
  {
   "cell_type": "code",
   "execution_count": 6,
   "metadata": {},
   "outputs": [],
   "source": [
    "from selenium import webdriver\n",
    "from selenium.webdriver.chrome.service import Service\n",
    "from selenium.webdriver.chrome.options import Options\n",
    "from webdriver_manager.chrome import ChromeDriverManager\n",
    "from selenium.webdriver.common.by import By\n",
    "import requests\n",
    "from bs4 import BeautifulSoup\n",
    "import time\n",
    "from csv import reader\n",
    "import pandas as pd"
   ]
  },
  {
   "cell_type": "code",
   "execution_count": 7,
   "metadata": {},
   "outputs": [],
   "source": [
    "chrome_options = Options()\n",
    "chrome_options.add_experimental_option(\"detach\", True)\n",
    "chrome_options.add_experimental_option(\"excludeSwitches\",[\"enable-logging\"])\n",
    "service = Service(executable_path=ChromeDriverManager().install())"
   ]
  },
  {
   "cell_type": "code",
   "execution_count": null,
   "metadata": {},
   "outputs": [],
   "source": [
    "base_url = 'https://www.kovo.co.kr/team/22000_player-search.asp?s_part=2&c_type=1'\n",
    "driver = webdriver.Chrome(service=service, options=chrome_options)\n",
    "\n",
    "keys = []\n",
    "iteration = 1\n",
    "\n",
    "for i in range(2, 15):\n",
    "    if iteration == 1:\n",
    "        driver.get(base_url)\n",
    "        driver.implicitly_wait(10)\n",
    "        r = requests.get(base_url)\n",
    "    else:\n",
    "        driver.get(driver.current_url)\n",
    "        driver.implicitly_wait(10)\n",
    "        r = requests.get(driver.current_url)\n",
    "    html = r.content\n",
    "    soup = BeautifulSoup(html, 'html.parser',from_encoding = 'utf-8')\n",
    "\n",
    "    for href in soup.find(\"div\", class_=\"wrp_box2 mt10\").find(\"ul\").find_all('li'):\n",
    "        key = href.find(\"a\")[\"href\"] #선수 개별 페이지로 이동할 수 있는 태그 수집\n",
    "        page = 'https://www.kovo.co.kr/team/'\n",
    "        keys.append(page + key)\n",
    "        \n",
    "    button = driver.find_element(By.CSS_SELECTOR, f'#wrp_content > article.wrp_searchplayer.mt30 > div.wrp_box > ul > li.s0{i} > a')\n",
    "    button.click() #다음 페이지로 이동\n",
    "    print(iteration)\n",
    "    iteration += 1\n",
    "\n",
    "driver.quit()"
   ]
  },
  {
   "cell_type": "code",
   "execution_count": null,
   "metadata": {},
   "outputs": [],
   "source": [
    "pd.DataFrame(keys, columns = ['url']).to_csv(\"선수별 페이지 url.csv\", encoding='utf-8-sig', index=False)"
   ]
  }
 ],
 "metadata": {
  "kernelspec": {
   "display_name": "base",
   "language": "python",
   "name": "python3"
  },
  "language_info": {
   "codemirror_mode": {
    "name": "ipython",
    "version": 3
   },
   "file_extension": ".py",
   "mimetype": "text/x-python",
   "name": "python",
   "nbconvert_exporter": "python",
   "pygments_lexer": "ipython3",
   "version": "3.9.16"
  },
  "orig_nbformat": 4
 },
 "nbformat": 4,
 "nbformat_minor": 2
}
