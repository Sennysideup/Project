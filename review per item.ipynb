{
 "cells": [
  {
   "cell_type": "code",
   "execution_count": 1,
   "metadata": {},
   "outputs": [],
   "source": [
    "from selenium import webdriver\n",
    "from selenium.webdriver.chrome.service import Service\n",
    "from selenium.webdriver.chrome.options import Options\n",
    "from webdriver_manager.chrome import ChromeDriverManager\n",
    "from selenium.webdriver.common.by import By\n",
    "import requests\n",
    "from bs4 import BeautifulSoup\n",
    "import time\n",
    "from selenium.webdriver.common.keys import Keys\n",
    "from selenium.common.exceptions import NoSuchElementException\n",
    "import numpy as np\n",
    "import pandas as pd\n",
    "import pickle\n",
    "from fp.fp import FreeProxy"
   ]
  },
  {
   "cell_type": "code",
   "execution_count": 2,
   "metadata": {},
   "outputs": [],
   "source": [
    "with open(\"goods.pickle\", \"rb\") as g:\n",
    "    goods = pickle.load(g) #불러오기"
   ]
  },
  {
   "cell_type": "code",
   "execution_count": 3,
   "metadata": {},
   "outputs": [],
   "source": [
    "def current_review():\n",
    "    for k in range(0,10):\n",
    "        item = driver.find_element(By.CLASS_NAME, 'prd_name').text\n",
    "        items.append(item) #상품명\n",
    "        time.sleep(1)\n",
    "        try:\n",
    "            user_id = driver.find_elements(By.CLASS_NAME, 'id')[k]\n",
    "            onclick = user_id.get_attribute('onclick')\n",
    "            id_key = onclick.split(\"'\")[-2]\n",
    "        except IndexError:\n",
    "            id_key = np.nan\n",
    "        user.append(id_key) #사용자 id\n",
    "\n",
    "        try: #피부 타입은 없는 경우도 있다\n",
    "            t = driver.find_elements(By.CLASS_NAME, 'tag')[k].text\n",
    "        except IndexError:\n",
    "            t = np.nan\n",
    "        type.append(t) #피부 타입\n",
    "\n",
    "        driver.implicitly_wait(5)\n",
    "        r = driver.find_elements(By.CLASS_NAME, 'point')[1:] #총 평점 제외\n",
    "        r = r[k].text\n",
    "        rate.append(r) #평점\n",
    "        t = driver.find_elements(By.CLASS_NAME, 'txt_inner')[k].text\n",
    "        txt.append(t) #리뷰\n",
    "        d = driver.find_elements(By.CLASS_NAME, 'date')[k].text\n",
    "        date.append(d) #날짜\n",
    "\n",
    "        try: #한달이상사용 및 재구매 여부는 없는 경우도 있다\n",
    "            m = driver.find_elements(By.CLASS_NAME, 'point_flag')[k].text\n",
    "        except IndexError:\n",
    "            m = np.nan\n",
    "        month_rebuy.append(m) #한달이상 사용 및 재구매 여부"
   ]
  },
  {
   "cell_type": "code",
   "execution_count": 8,
   "metadata": {},
   "outputs": [
    {
     "data": {
      "text/plain": [
       "'189.232.96.231:8080'"
      ]
     },
     "execution_count": 8,
     "metadata": {},
     "output_type": "execute_result"
    }
   ],
   "source": [
    "# selenium header에 알맞은 형태로 변환\n",
    "proxy_server = proxy.split('//')[1]\n"
   ]
  },
  {
   "cell_type": "code",
   "execution_count": 7,
   "metadata": {},
   "outputs": [],
   "source": [
    "# free-proxy get\n",
    "proxy = FreeProxy(rand = True, https = True).get()\n",
    "\n",
    "chrome_options = Options()\n",
    "chrome_options.add_experimental_option(\"detach\", True)\n",
    "chrome_options.add_experimental_option(\"excludeSwitches\",[\"enable-logging\"])\n",
    "chrome_options.add_argument(\"--disable-blink-features=AutomationControlled\")\n",
    "\n",
    "# selenium header에 알맞은 형태로 변환\n",
    "proxy_server = proxy.split('//')[1]\n",
    "chrome_options.add_argument(f'--proxy-server={proxy_server}')\n",
    "service = Service(executable_path=ChromeDriverManager().install())"
   ]
  },
  {
   "cell_type": "code",
   "execution_count": null,
   "metadata": {},
   "outputs": [],
   "source": [
    "#반복문으로 구현\n",
    "items = list(); user = list(); type = list(); rate = list(); txt = list(); date = list()\n",
    "month_rebuy = list()\n",
    "driver = webdriver.Chrome(service=service, options=chrome_options)\n",
    "\n",
    "### 긁어오지 않은 부분부터 시행해야\n",
    "for _,j in enumerate(goods.loc[105:114, 'url']):\n",
    "    resp = requests.get(j)\n",
    "    if resp.status_code == requests.codes.ok: #status_code == 200인 경우만\n",
    "        driver.get(j) #개별 상품 페이지로 이동\n",
    "        time.sleep(0.5)\n",
    "        driver.execute_script(\"window.scrollTo(0, document.body.scrollHeight);\") #스크롤 끝까지 내리기\n",
    "        try:\n",
    "            review = driver.find_element(By.CSS_SELECTOR, '#reviewInfo')\n",
    "            review.click() #리뷰 클릭\n",
    "            driver.implicitly_wait(10)\n",
    "            temp = driver.find_element(By.CSS_SELECTOR, \"#gdasSort > li.is-layer.on\")\n",
    "            temp.click() #리뷰 유용한 순 클릭\n",
    "            driver.execute_script(\"window.scrollTo(0, document.body.scrollHeight);\") #스크롤 끝까지 내리기\n",
    "            \n",
    "            try: #리뷰가 있는 경우\n",
    "                current_review() #첫페이지 리뷰 정보 가져오기\n",
    "                for i in range(2,11): #페이지 이동 : 10페이지까지\n",
    "                    next = driver.find_element(By.CSS_SELECTOR, \"#gdasContentsArea > div > div.pageing > a:nth-child({})\".format(i))\n",
    "                    next.send_keys(Keys.ENTER)\n",
    "                    driver.implicitly_wait(3)\n",
    "                    current_review()\n",
    "            except NoSuchElementException: #리뷰 없는 경우 : 리뷰가 100개 이하인 경우도 같은 메시지\n",
    "                print(_, \"리뷰가 없습니다\")\n",
    "        except NoSuchElementException: #페이지 로딩 안 되는 경우\n",
    "            print(_, \"페이지 로딩 실패\")\n",
    "        except: #기타 에러 발생한 경우 반복문 중지\n",
    "            print(\"ERROR: \", _)\n",
    "            driver.quit()\n",
    "            break"
   ]
  },
  {
   "cell_type": "code",
   "execution_count": 71,
   "metadata": {},
   "outputs": [
    {
     "name": "stdout",
     "output_type": "stream",
     "text": [
      "181 181 180 180 180 180 180\n"
     ]
    }
   ],
   "source": [
    "# 리스트 길이 동일한지 확인\n",
    "## 리뷰가 제대로 크롤링되지 않은 경우 items, user, type의 길이가 더 길 수 있다: list[:-1]로 잘라주어야\n",
    "print(len(items), len(user), len(type), len(rate), len(txt), len(date), len(month_rebuy))"
   ]
  },
  {
   "cell_type": "code",
   "execution_count": 72,
   "metadata": {},
   "outputs": [
    {
     "data": {
      "text/html": [
       "<div>\n",
       "<style scoped>\n",
       "    .dataframe tbody tr th:only-of-type {\n",
       "        vertical-align: middle;\n",
       "    }\n",
       "\n",
       "    .dataframe tbody tr th {\n",
       "        vertical-align: top;\n",
       "    }\n",
       "\n",
       "    .dataframe thead th {\n",
       "        text-align: right;\n",
       "    }\n",
       "</style>\n",
       "<table border=\"1\" class=\"dataframe\">\n",
       "  <thead>\n",
       "    <tr style=\"text-align: right;\">\n",
       "      <th></th>\n",
       "      <th>상품명2</th>\n",
       "      <th>리뷰자</th>\n",
       "      <th>피부타입</th>\n",
       "      <th>평점</th>\n",
       "      <th>리뷰</th>\n",
       "      <th>날짜</th>\n",
       "    </tr>\n",
       "  </thead>\n",
       "  <tbody>\n",
       "    <tr>\n",
       "      <th>179</th>\n",
       "      <td>[단독기획] 스킨푸드 캐롯 카로틴 수딩 토너 300ml+200ml</td>\n",
       "      <td>WVhJUWFHTFFhY3NwSUxEcHRPM3FTZz09</td>\n",
       "      <td>NaN</td>\n",
       "      <td>5점만점에 5점</td>\n",
       "      <td>당근 패드 속에 있는 토너느낌이랑 비슷해요 냄새도요!! 수분감이 엄청 많고 진정되는...</td>\n",
       "      <td>2023.04.23</td>\n",
       "    </tr>\n",
       "  </tbody>\n",
       "</table>\n",
       "</div>"
      ],
      "text/plain": [
       "                                     상품명2                               리뷰자  \\\n",
       "179  [단독기획] 스킨푸드 캐롯 카로틴 수딩 토너 300ml+200ml  WVhJUWFHTFFhY3NwSUxEcHRPM3FTZz09   \n",
       "\n",
       "    피부타입        평점                                                 리뷰  \\\n",
       "179  NaN  5점만점에 5점  당근 패드 속에 있는 토너느낌이랑 비슷해요 냄새도요!! 수분감이 엄청 많고 진정되는...   \n",
       "\n",
       "             날짜  \n",
       "179  2023.04.23  "
      ]
     },
     "execution_count": 72,
     "metadata": {},
     "output_type": "execute_result"
    }
   ],
   "source": [
    "# 리스트 > 데이터프레임으로 변경\n",
    "## 재구매 및 한달사용 여부의 경우 별도 데이터프레임으로 저장\n",
    "df = pd.DataFrame({\"상품명2\":items[:-1], \"리뷰자\":user[:-1], \"피부타입\":type, \"평점\":rate, \"리뷰\":txt, \"날짜\":date})\n",
    "temp = pd.DataFrame({\"상품명2\":items[:-1], \"재구매및한달\":month_rebuy})\n",
    "temp2 = temp.groupby('상품명2')['재구매및한달'].value_counts()\n",
    "temp2 = temp2.to_frame()\n",
    "df.tail(1) #마지막으로 크롤링한 리뷰 확인하기"
   ]
  },
  {
   "cell_type": "code",
   "execution_count": 73,
   "metadata": {},
   "outputs": [],
   "source": [
    "with open(\"review.pickle\", \"rb\") as g:\n",
    "    previous = pickle.load(g) #이전 크롤링 결과 불러오기\n",
    "\n",
    "with open(\"month_rebuy.pickle\", \"rb\") as f:\n",
    "    previous_month = pickle.load(f) # 이전 재구매 여부 불러오기"
   ]
  },
  {
   "cell_type": "code",
   "execution_count": 74,
   "metadata": {},
   "outputs": [
    {
     "data": {
      "text/plain": [
       "(5813, 6)"
      ]
     },
     "execution_count": 74,
     "metadata": {},
     "output_type": "execute_result"
    }
   ],
   "source": [
    "# concat : 크롤링 결과\n",
    "new_df = pd.concat([previous, df])\n",
    "\n",
    "# 중복 제거 : 모든 컬럼 기준\n",
    "# 댓글 페이지가 제대로 로딩되지 않은 경우 중복건이 발생하는 것으로 보임\n",
    "new_df.drop_duplicates(inplace=True)\n",
    "new_df.shape"
   ]
  },
  {
   "cell_type": "code",
   "execution_count": 75,
   "metadata": {},
   "outputs": [
    {
     "data": {
      "text/plain": [
       "94"
      ]
     },
     "execution_count": 75,
     "metadata": {},
     "output_type": "execute_result"
    }
   ],
   "source": [
    "new_df['상품명2'].nunique() # 몇 개 상품의 리뷰를 가져왔나"
   ]
  },
  {
   "cell_type": "code",
   "execution_count": 76,
   "metadata": {},
   "outputs": [],
   "source": [
    "temp2 = temp2.rename(columns={\"재구매및한달\":\"count\"}).reset_index(drop=False)"
   ]
  },
  {
   "cell_type": "code",
   "execution_count": 77,
   "metadata": {},
   "outputs": [
    {
     "data": {
      "text/plain": [
       "(223, 3)"
      ]
     },
     "execution_count": 77,
     "metadata": {},
     "output_type": "execute_result"
    }
   ],
   "source": [
    "# concat : 재구매 여부\n",
    "new_temp = pd.concat([previous_month, temp2])\n",
    "new_temp.drop_duplicates(inplace=True) #중복 제거\n",
    "new_temp.shape"
   ]
  },
  {
   "cell_type": "code",
   "execution_count": 78,
   "metadata": {},
   "outputs": [],
   "source": [
    "with open(\"review.pickle\", \"wb\") as g:\n",
    "    pickle.dump(new_df, g) #리뷰 크롤링 결과 저장"
   ]
  },
  {
   "cell_type": "code",
   "execution_count": 79,
   "metadata": {},
   "outputs": [],
   "source": [
    "with open(\"month_rebuy.pickle\", \"wb\") as f:\n",
    "    pickle.dump(new_temp, f) # 상품별 재구매 및 한달사용 여부 저장"
   ]
  }
 ],
 "metadata": {
  "kernelspec": {
   "display_name": "test",
   "language": "python",
   "name": "python3"
  },
  "language_info": {
   "codemirror_mode": {
    "name": "ipython",
    "version": 3
   },
   "file_extension": ".py",
   "mimetype": "text/x-python",
   "name": "python",
   "nbconvert_exporter": "python",
   "pygments_lexer": "ipython3",
   "version": "3.9.16"
  },
  "orig_nbformat": 4
 },
 "nbformat": 4,
 "nbformat_minor": 2
}
