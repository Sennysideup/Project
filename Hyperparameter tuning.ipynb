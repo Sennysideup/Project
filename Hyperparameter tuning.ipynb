{
 "cells": [
  {
   "cell_type": "code",
   "execution_count": 19,
   "metadata": {},
   "outputs": [],
   "source": [
    "# 라이브러리\n",
    "import pandas as pd\n",
    "import numpy as np\n",
    "from sklearn.covariance import EllipticEnvelope\n",
    "from sklearn.model_selection import RandomizedSearchCV\n",
    "from sklearn.model_selection import GridSearchCV\n",
    "from tabgan.sampler import OriginalGenerator, GANGenerator\n",
    "from imblearn.combine import *\n",
    "from imblearn.over_sampling import *\n",
    "import optuna\n",
    "\n",
    "import warnings\n",
    "warnings.filterwarnings(action='ignore')"
   ]
  },
  {
   "cell_type": "code",
   "execution_count": 20,
   "metadata": {},
   "outputs": [
    {
     "data": {
      "text/html": [
       "<div>\n",
       "<style scoped>\n",
       "    .dataframe tbody tr th:only-of-type {\n",
       "        vertical-align: middle;\n",
       "    }\n",
       "\n",
       "    .dataframe tbody tr th {\n",
       "        vertical-align: top;\n",
       "    }\n",
       "\n",
       "    .dataframe thead th {\n",
       "        text-align: right;\n",
       "    }\n",
       "</style>\n",
       "<table border=\"1\" class=\"dataframe\">\n",
       "  <thead>\n",
       "    <tr style=\"text-align: right;\">\n",
       "      <th></th>\n",
       "      <th>air_inflow</th>\n",
       "      <th>air_end_temp</th>\n",
       "      <th>out_pressure</th>\n",
       "      <th>motor_current</th>\n",
       "      <th>motor_rpm</th>\n",
       "      <th>motor_temp</th>\n",
       "      <th>motor_vibe</th>\n",
       "      <th>type</th>\n",
       "    </tr>\n",
       "  </thead>\n",
       "  <tbody>\n",
       "    <tr>\n",
       "      <th>0</th>\n",
       "      <td>1.59</td>\n",
       "      <td>41.00</td>\n",
       "      <td>0.7</td>\n",
       "      <td>20.53</td>\n",
       "      <td>1680.0</td>\n",
       "      <td>58.67</td>\n",
       "      <td>2.93</td>\n",
       "      <td>0</td>\n",
       "    </tr>\n",
       "    <tr>\n",
       "      <th>1</th>\n",
       "      <td>2.97</td>\n",
       "      <td>59.28</td>\n",
       "      <td>0.7</td>\n",
       "      <td>38.40</td>\n",
       "      <td>3142.0</td>\n",
       "      <td>74.91</td>\n",
       "      <td>3.75</td>\n",
       "      <td>0</td>\n",
       "    </tr>\n",
       "    <tr>\n",
       "      <th>2</th>\n",
       "      <td>1.91</td>\n",
       "      <td>45.29</td>\n",
       "      <td>0.7</td>\n",
       "      <td>24.73</td>\n",
       "      <td>2023.0</td>\n",
       "      <td>62.48</td>\n",
       "      <td>3.12</td>\n",
       "      <td>0</td>\n",
       "    </tr>\n",
       "    <tr>\n",
       "      <th>3</th>\n",
       "      <td>2.37</td>\n",
       "      <td>51.33</td>\n",
       "      <td>0.7</td>\n",
       "      <td>30.63</td>\n",
       "      <td>2506.0</td>\n",
       "      <td>67.84</td>\n",
       "      <td>3.39</td>\n",
       "      <td>0</td>\n",
       "    </tr>\n",
       "    <tr>\n",
       "      <th>4</th>\n",
       "      <td>1.90</td>\n",
       "      <td>45.21</td>\n",
       "      <td>0.7</td>\n",
       "      <td>24.65</td>\n",
       "      <td>2017.0</td>\n",
       "      <td>62.41</td>\n",
       "      <td>3.12</td>\n",
       "      <td>0</td>\n",
       "    </tr>\n",
       "  </tbody>\n",
       "</table>\n",
       "</div>"
      ],
      "text/plain": [
       "   air_inflow  air_end_temp  out_pressure  motor_current  motor_rpm  \\\n",
       "0        1.59         41.00           0.7          20.53     1680.0   \n",
       "1        2.97         59.28           0.7          38.40     3142.0   \n",
       "2        1.91         45.29           0.7          24.73     2023.0   \n",
       "3        2.37         51.33           0.7          30.63     2506.0   \n",
       "4        1.90         45.21           0.7          24.65     2017.0   \n",
       "\n",
       "   motor_temp  motor_vibe  type  \n",
       "0       58.67        2.93     0  \n",
       "1       74.91        3.75     0  \n",
       "2       62.48        3.12     0  \n",
       "3       67.84        3.39     0  \n",
       "4       62.41        3.12     0  "
      ]
     },
     "execution_count": 20,
     "metadata": {},
     "output_type": "execute_result"
    }
   ],
   "source": [
    "train = pd.read_csv(\"data/train_data.csv\")\n",
    "train2 = pd.read_csv(\"data/test_data.csv\")\n",
    "test = pd.read_csv(\"data/test_data.csv\")\n",
    "\n",
    "train = pd.concat([train, train2]) #train, test 합치기\n",
    "train.head()"
   ]
  },
  {
   "cell_type": "code",
   "execution_count": 22,
   "metadata": {},
   "outputs": [],
   "source": [
    "def get_pred_label(model_pred):\n",
    "    # (1:정상, -1:불량(사기)) 이므로 (0:정상, 1:불량(사기))로 Label 변환\n",
    "    model_pred = np.where(model_pred == 1, 0, model_pred)\n",
    "    model_pred = np.where(model_pred == -1, 1, model_pred)\n",
    "    return model_pred"
   ]
  },
  {
   "cell_type": "code",
   "execution_count": 24,
   "metadata": {},
   "outputs": [
    {
     "name": "stdout",
     "output_type": "stream",
     "text": [
      "Best hyperparameters: {'contamination': 0.02, 'support_fraction': 0.8}\n"
     ]
    }
   ],
   "source": [
    "# 모델 1 하이퍼 파라미터 튜닝\n",
    "model = EllipticEnvelope()\n",
    "param_grid = {'support_fraction': [0.8, 0.9, 0.99], 'contamination': [0.02, 0.03, 0.04, 0.05]}\n",
    "\n",
    "grid_search = GridSearchCV(model, param_grid=param_grid, scoring='recall', cv=5)\n",
    "grid_search.fit(train)\n",
    "print('Best hyperparameters:', grid_search.best_params_)"
   ]
  },
  {
   "cell_type": "code",
   "execution_count": 25,
   "metadata": {},
   "outputs": [],
   "source": [
    "optimized_model = EllipticEnvelope(support_fraction = grid_search.best_params_['support_fraction'], \n",
    "                                   contamination = grid_search.best_params_['contamination'], random_state=42)\n",
    "train_pred = optimized_model.fit_predict(train)\n",
    "train_pred = get_pred_label(train_pred)\n",
    "train['label'] = train_pred #train+test 데이터에 label 컬럼 추가"
   ]
  },
  {
   "cell_type": "code",
   "execution_count": 26,
   "metadata": {},
   "outputs": [],
   "source": [
    "X = train.iloc[:, :-1]\n",
    "y = train.iloc[:, -1].reset_index()\n",
    "y.drop(\"index\", axis=1, inplace=True)"
   ]
  },
  {
   "cell_type": "code",
   "execution_count": 27,
   "metadata": {},
   "outputs": [
    {
     "data": {
      "application/vnd.jupyter.widget-view+json": {
       "model_id": "27398ebc88274bc3994bf8b7db492123",
       "version_major": 2,
       "version_minor": 0
      },
      "text/plain": [
       "Fitting CTGAN transformers for each column:   0%|          | 0/10 [00:00<?, ?it/s]"
      ]
     },
     "metadata": {},
     "output_type": "display_data"
    },
    {
     "data": {
      "application/vnd.jupyter.widget-view+json": {
       "model_id": "f00cb01056a244f09b5b3d427cc16a2a",
       "version_major": 2,
       "version_minor": 0
      },
      "text/plain": [
       "Training CTGAN, epochs::   0%|          | 0/500 [00:00<?, ?it/s]"
      ]
     },
     "metadata": {},
     "output_type": "display_data"
    }
   ],
   "source": [
    "new_train, new_target = GANGenerator().generate_data_pipe(X, y, test, )"
   ]
  },
  {
   "cell_type": "code",
   "execution_count": 28,
   "metadata": {},
   "outputs": [
    {
     "data": {
      "text/plain": [
       "0    1721\n",
       "1    1459\n",
       "2    1435\n",
       "4    1214\n",
       "3    1203\n",
       "5     995\n",
       "6     993\n",
       "7     742\n",
       "Name: type, dtype: int64"
      ]
     },
     "execution_count": 28,
     "metadata": {},
     "output_type": "execute_result"
    }
   ],
   "source": [
    "new_train['type'].value_counts()"
   ]
  },
  {
   "cell_type": "code",
   "execution_count": 29,
   "metadata": {},
   "outputs": [
    {
     "data": {
      "text/html": [
       "<div>\n",
       "<style scoped>\n",
       "    .dataframe tbody tr th:only-of-type {\n",
       "        vertical-align: middle;\n",
       "    }\n",
       "\n",
       "    .dataframe tbody tr th {\n",
       "        vertical-align: top;\n",
       "    }\n",
       "\n",
       "    .dataframe thead th {\n",
       "        text-align: right;\n",
       "    }\n",
       "</style>\n",
       "<table border=\"1\" class=\"dataframe\">\n",
       "  <thead>\n",
       "    <tr style=\"text-align: right;\">\n",
       "      <th></th>\n",
       "      <th>air_inflow</th>\n",
       "      <th>air_end_temp</th>\n",
       "      <th>out_pressure</th>\n",
       "      <th>motor_current</th>\n",
       "      <th>motor_rpm</th>\n",
       "      <th>motor_temp</th>\n",
       "      <th>motor_vibe</th>\n",
       "      <th>type</th>\n",
       "      <th>temp_divide_rpm</th>\n",
       "    </tr>\n",
       "  </thead>\n",
       "  <tbody>\n",
       "    <tr>\n",
       "      <th>0</th>\n",
       "      <td>1.59</td>\n",
       "      <td>41.00</td>\n",
       "      <td>0.7</td>\n",
       "      <td>20.53</td>\n",
       "      <td>1680.0</td>\n",
       "      <td>58.67</td>\n",
       "      <td>2.93</td>\n",
       "      <td>0</td>\n",
       "      <td>0.024405</td>\n",
       "    </tr>\n",
       "    <tr>\n",
       "      <th>1</th>\n",
       "      <td>3.04</td>\n",
       "      <td>42.20</td>\n",
       "      <td>0.7</td>\n",
       "      <td>35.00</td>\n",
       "      <td>1736.0</td>\n",
       "      <td>60.29</td>\n",
       "      <td>4.16</td>\n",
       "      <td>3</td>\n",
       "      <td>0.024309</td>\n",
       "    </tr>\n",
       "    <tr>\n",
       "      <th>2</th>\n",
       "      <td>2.53</td>\n",
       "      <td>38.55</td>\n",
       "      <td>0.7</td>\n",
       "      <td>29.00</td>\n",
       "      <td>1444.0</td>\n",
       "      <td>57.04</td>\n",
       "      <td>4.00</td>\n",
       "      <td>3</td>\n",
       "      <td>0.026697</td>\n",
       "    </tr>\n",
       "    <tr>\n",
       "      <th>3</th>\n",
       "      <td>3.56</td>\n",
       "      <td>45.90</td>\n",
       "      <td>0.7</td>\n",
       "      <td>41.00</td>\n",
       "      <td>2032.0</td>\n",
       "      <td>63.58</td>\n",
       "      <td>4.33</td>\n",
       "      <td>3</td>\n",
       "      <td>0.022589</td>\n",
       "    </tr>\n",
       "    <tr>\n",
       "      <th>4</th>\n",
       "      <td>2.71</td>\n",
       "      <td>39.84</td>\n",
       "      <td>0.7</td>\n",
       "      <td>31.00</td>\n",
       "      <td>1547.0</td>\n",
       "      <td>58.19</td>\n",
       "      <td>4.06</td>\n",
       "      <td>3</td>\n",
       "      <td>0.025753</td>\n",
       "    </tr>\n",
       "  </tbody>\n",
       "</table>\n",
       "</div>"
      ],
      "text/plain": [
       "   air_inflow  air_end_temp  out_pressure  motor_current  motor_rpm  \\\n",
       "0        1.59         41.00           0.7          20.53     1680.0   \n",
       "1        3.04         42.20           0.7          35.00     1736.0   \n",
       "2        2.53         38.55           0.7          29.00     1444.0   \n",
       "3        3.56         45.90           0.7          41.00     2032.0   \n",
       "4        2.71         39.84           0.7          31.00     1547.0   \n",
       "\n",
       "   motor_temp  motor_vibe  type  temp_divide_rpm  \n",
       "0       58.67        2.93     0         0.024405  \n",
       "1       60.29        4.16     3         0.024309  \n",
       "2       57.04        4.00     3         0.026697  \n",
       "3       63.58        4.33     3         0.022589  \n",
       "4       58.19        4.06     3         0.025753  "
      ]
     },
     "execution_count": 29,
     "metadata": {},
     "output_type": "execute_result"
    }
   ],
   "source": [
    "new_train.head()"
   ]
  },
  {
   "cell_type": "code",
   "execution_count": 30,
   "metadata": {},
   "outputs": [],
   "source": [
    "### GANgenerator로 생성된 데이터 추가해서 학습\n",
    "new_train['label'] = new_target\n",
    "df = pd.concat([train, new_train]) # new 학습 데이터"
   ]
  },
  {
   "cell_type": "code",
   "execution_count": 31,
   "metadata": {},
   "outputs": [
    {
     "data": {
      "text/plain": [
       "0    19288\n",
       "1      326\n",
       "Name: label, dtype: int64"
      ]
     },
     "execution_count": 31,
     "metadata": {},
     "output_type": "execute_result"
    }
   ],
   "source": [
    "df['label'].value_counts()"
   ]
  },
  {
   "cell_type": "code",
   "execution_count": 32,
   "metadata": {},
   "outputs": [],
   "source": [
    "X_train = df.drop(['label'], axis=1)\n",
    "y_train = df['label']"
   ]
  },
  {
   "cell_type": "code",
   "execution_count": 14,
   "metadata": {},
   "outputs": [
    {
     "name": "stdout",
     "output_type": "stream",
     "text": [
      "Best hyperparameters: {'contamination': 0.01, 'support_fraction': 0.7}\n"
     ]
    }
   ],
   "source": [
    "# 모델 2 하이퍼 파라미터 튜닝\n",
    "model2 = EllipticEnvelope()\n",
    "param_dist = {'support_fraction': [0.7, 0.8, 0.9, 0.999], 'contamination': [0.01, 0.02, 0.03, 0.04, 0.05]}\n",
    "\n",
    "random_search = RandomizedSearchCV(model2, param_distributions=param_dist, n_iter = 100, scoring='recall', cv=5)\n",
    "random_search.fit(X_train, y_train)\n",
    "print('Best hyperparameters:', random_search.best_params_)"
   ]
  },
  {
   "cell_type": "code",
   "execution_count": 33,
   "metadata": {},
   "outputs": [
    {
     "data": {
      "text/html": [
       "<style>#sk-container-id-2 {color: black;background-color: white;}#sk-container-id-2 pre{padding: 0;}#sk-container-id-2 div.sk-toggleable {background-color: white;}#sk-container-id-2 label.sk-toggleable__label {cursor: pointer;display: block;width: 100%;margin-bottom: 0;padding: 0.3em;box-sizing: border-box;text-align: center;}#sk-container-id-2 label.sk-toggleable__label-arrow:before {content: \"▸\";float: left;margin-right: 0.25em;color: #696969;}#sk-container-id-2 label.sk-toggleable__label-arrow:hover:before {color: black;}#sk-container-id-2 div.sk-estimator:hover label.sk-toggleable__label-arrow:before {color: black;}#sk-container-id-2 div.sk-toggleable__content {max-height: 0;max-width: 0;overflow: hidden;text-align: left;background-color: #f0f8ff;}#sk-container-id-2 div.sk-toggleable__content pre {margin: 0.2em;color: black;border-radius: 0.25em;background-color: #f0f8ff;}#sk-container-id-2 input.sk-toggleable__control:checked~div.sk-toggleable__content {max-height: 200px;max-width: 100%;overflow: auto;}#sk-container-id-2 input.sk-toggleable__control:checked~label.sk-toggleable__label-arrow:before {content: \"▾\";}#sk-container-id-2 div.sk-estimator input.sk-toggleable__control:checked~label.sk-toggleable__label {background-color: #d4ebff;}#sk-container-id-2 div.sk-label input.sk-toggleable__control:checked~label.sk-toggleable__label {background-color: #d4ebff;}#sk-container-id-2 input.sk-hidden--visually {border: 0;clip: rect(1px 1px 1px 1px);clip: rect(1px, 1px, 1px, 1px);height: 1px;margin: -1px;overflow: hidden;padding: 0;position: absolute;width: 1px;}#sk-container-id-2 div.sk-estimator {font-family: monospace;background-color: #f0f8ff;border: 1px dotted black;border-radius: 0.25em;box-sizing: border-box;margin-bottom: 0.5em;}#sk-container-id-2 div.sk-estimator:hover {background-color: #d4ebff;}#sk-container-id-2 div.sk-parallel-item::after {content: \"\";width: 100%;border-bottom: 1px solid gray;flex-grow: 1;}#sk-container-id-2 div.sk-label:hover label.sk-toggleable__label {background-color: #d4ebff;}#sk-container-id-2 div.sk-serial::before {content: \"\";position: absolute;border-left: 1px solid gray;box-sizing: border-box;top: 0;bottom: 0;left: 50%;z-index: 0;}#sk-container-id-2 div.sk-serial {display: flex;flex-direction: column;align-items: center;background-color: white;padding-right: 0.2em;padding-left: 0.2em;position: relative;}#sk-container-id-2 div.sk-item {position: relative;z-index: 1;}#sk-container-id-2 div.sk-parallel {display: flex;align-items: stretch;justify-content: center;background-color: white;position: relative;}#sk-container-id-2 div.sk-item::before, #sk-container-id-2 div.sk-parallel-item::before {content: \"\";position: absolute;border-left: 1px solid gray;box-sizing: border-box;top: 0;bottom: 0;left: 50%;z-index: -1;}#sk-container-id-2 div.sk-parallel-item {display: flex;flex-direction: column;z-index: 1;position: relative;background-color: white;}#sk-container-id-2 div.sk-parallel-item:first-child::after {align-self: flex-end;width: 50%;}#sk-container-id-2 div.sk-parallel-item:last-child::after {align-self: flex-start;width: 50%;}#sk-container-id-2 div.sk-parallel-item:only-child::after {width: 0;}#sk-container-id-2 div.sk-dashed-wrapped {border: 1px dashed gray;margin: 0 0.4em 0.5em 0.4em;box-sizing: border-box;padding-bottom: 0.4em;background-color: white;}#sk-container-id-2 div.sk-label label {font-family: monospace;font-weight: bold;display: inline-block;line-height: 1.2em;}#sk-container-id-2 div.sk-label-container {text-align: center;}#sk-container-id-2 div.sk-container {/* jupyter's `normalize.less` sets `[hidden] { display: none; }` but bootstrap.min.css set `[hidden] { display: none !important; }` so we also need the `!important` here to be able to override the default hidden behavior on the sphinx rendered scikit-learn.org. See: https://github.com/scikit-learn/scikit-learn/issues/21755 */display: inline-block !important;position: relative;}#sk-container-id-2 div.sk-text-repr-fallback {display: none;}</style><div id=\"sk-container-id-2\" class=\"sk-top-container\"><div class=\"sk-text-repr-fallback\"><pre>EllipticEnvelope(contamination=0.02, random_state=42, support_fraction=0.8)</pre><b>In a Jupyter environment, please rerun this cell to show the HTML representation or trust the notebook. <br />On GitHub, the HTML representation is unable to render, please try loading this page with nbviewer.org.</b></div><div class=\"sk-container\" hidden><div class=\"sk-item\"><div class=\"sk-estimator sk-toggleable\"><input class=\"sk-toggleable__control sk-hidden--visually\" id=\"sk-estimator-id-2\" type=\"checkbox\" checked><label for=\"sk-estimator-id-2\" class=\"sk-toggleable__label sk-toggleable__label-arrow\">EllipticEnvelope</label><div class=\"sk-toggleable__content\"><pre>EllipticEnvelope(contamination=0.02, random_state=42, support_fraction=0.8)</pre></div></div></div></div></div>"
      ],
      "text/plain": [
       "EllipticEnvelope(contamination=0.02, random_state=42, support_fraction=0.8)"
      ]
     },
     "execution_count": 33,
     "metadata": {},
     "output_type": "execute_result"
    }
   ],
   "source": [
    "optimized_model = EllipticEnvelope(support_fraction = grid_search.best_params_['support_fraction'], contamination = grid_search.best_params_['contamination'], random_state = 42)\n",
    "optimized_model.fit(X_train)"
   ]
  },
  {
   "cell_type": "code",
   "execution_count": 34,
   "metadata": {},
   "outputs": [],
   "source": [
    "# 최적 파라미터 값으로 test predict\n",
    "test_pred = optimized_model.predict(test)\n",
    "test_pred = get_pred_label(test_pred)\n",
    "test['label'] = test_pred"
   ]
  },
  {
   "cell_type": "code",
   "execution_count": 35,
   "metadata": {},
   "outputs": [
    {
     "data": {
      "text/plain": [
       "0    7192\n",
       "1     197\n",
       "Name: label, dtype: int64"
      ]
     },
     "execution_count": 35,
     "metadata": {},
     "output_type": "execute_result"
    }
   ],
   "source": [
    "test['label'].value_counts()"
   ]
  },
  {
   "cell_type": "code",
   "execution_count": 36,
   "metadata": {},
   "outputs": [],
   "source": [
    "answer = pd.read_csv(\"data/answer_sample.csv\")\n",
    "answer['label'] = test['label']\n",
    "answer.to_csv(\"GridsearchCV + RandomsearchCV.csv\", index = False)"
   ]
  },
  {
   "cell_type": "code",
   "execution_count": null,
   "metadata": {},
   "outputs": [],
   "source": []
  }
 ],
 "metadata": {
  "kernelspec": {
   "display_name": "base",
   "language": "python",
   "name": "python3"
  },
  "language_info": {
   "codemirror_mode": {
    "name": "ipython",
    "version": 3
   },
   "file_extension": ".py",
   "mimetype": "text/x-python",
   "name": "python",
   "nbconvert_exporter": "python",
   "pygments_lexer": "ipython3",
   "version": "3.9.16"
  },
  "orig_nbformat": 4
 },
 "nbformat": 4,
 "nbformat_minor": 2
}
